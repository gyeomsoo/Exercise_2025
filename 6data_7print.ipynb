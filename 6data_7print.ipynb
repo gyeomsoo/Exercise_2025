{
  "nbformat": 4,
  "nbformat_minor": 0,
  "metadata": {
    "colab": {
      "provenance": [],
      "include_colab_link": true
    },
    "kernelspec": {
      "name": "python3",
      "display_name": "Python 3"
    },
    "language_info": {
      "name": "python"
    }
  },
  "cells": [
    {
      "cell_type": "markdown",
      "metadata": {
        "id": "view-in-github",
        "colab_type": "text"
      },
      "source": [
        "<a href=\"https://colab.research.google.com/github/gyeomsoo/Exercise_2025/blob/main/6data_7print.ipynb\" target=\"_parent\"><img src=\"https://colab.research.google.com/assets/colab-badge.svg\" alt=\"Open In Colab\"/></a>"
      ]
    },
    {
      "cell_type": "markdown",
      "source": [
        "# 6 자료형 개념"
      ],
      "metadata": {
        "id": "Ep4pvMw3COpr"
      }
    },
    {
      "cell_type": "markdown",
      "source": [
        "## 수치자료"
      ],
      "metadata": {
        "id": "QvhoI8SEBPhf"
      }
    },
    {
      "cell_type": "code",
      "source": [
        "intData = 15 # 정수 데이터\n",
        "floatData = 2.5 # 실수 데이터\n",
        "complexData = 1+1j # 복소수 데이터"
      ],
      "metadata": {
        "id": "18_o0fFCArnv"
      },
      "execution_count": 4,
      "outputs": []
    },
    {
      "cell_type": "markdown",
      "source": [
        "##불리언 자료"
      ],
      "metadata": {
        "id": "XL4xVqsqBS3X"
      }
    },
    {
      "cell_type": "code",
      "source": [
        "isTrue = True\n",
        "isFalse = False"
      ],
      "metadata": {
        "id": "ZAZGGGATBFaf"
      },
      "execution_count": 3,
      "outputs": []
    },
    {
      "cell_type": "markdown",
      "source": [
        "## 시퀀스 *자료*"
      ],
      "metadata": {
        "id": "2KgFAZ2eBgnb"
      }
    },
    {
      "cell_type": "markdown",
      "source": [
        "set 자료"
      ],
      "metadata": {
        "id": "aYpGqoV6BoHQ"
      }
    },
    {
      "cell_type": "code",
      "source": [
        "setData = {1, 2, 3, 4, 5}"
      ],
      "metadata": {
        "id": "c5LIOkPxBij1"
      },
      "execution_count": 2,
      "outputs": []
    },
    {
      "cell_type": "markdown",
      "source": [
        "딕셔너리"
      ],
      "metadata": {
        "id": "5jqZ-w7eB8Fi"
      }
    },
    {
      "cell_type": "code",
      "source": [
        "dictData = {0:False, 1:True}"
      ],
      "metadata": {
        "id": "ew6iHbjfB-Ws"
      },
      "execution_count": 1,
      "outputs": []
    },
    {
      "cell_type": "markdown",
      "source": [
        "# 7 자료형 출력"
      ],
      "metadata": {
        "id": "uGRBQv-uCmAp"
      }
    },
    {
      "cell_type": "code",
      "source": [
        "print('안녕하세요 파이썬!')"
      ],
      "metadata": {
        "colab": {
          "base_uri": "https://localhost:8080/"
        },
        "id": "9lRigwDkCpes",
        "outputId": "a6e83021-f321-4c4e-fcab-562fa6938d1e"
      },
      "execution_count": 5,
      "outputs": [
        {
          "output_type": "stream",
          "name": "stdout",
          "text": [
            "안녕하세요 파이썬!\n"
          ]
        }
      ]
    },
    {
      "cell_type": "code",
      "source": [
        "hello = '안녕하세요 파이썬!'\n",
        "print(hello)"
      ],
      "metadata": {
        "colab": {
          "base_uri": "https://localhost:8080/"
        },
        "id": "Hwtye2KkC3Zc",
        "outputId": "f95e38a3-a287-4d1e-fb6f-d4f270da32f0"
      },
      "execution_count": 6,
      "outputs": [
        {
          "output_type": "stream",
          "name": "stdout",
          "text": [
            "안녕하세요 파이썬!\n"
          ]
        }
      ]
    },
    {
      "cell_type": "code",
      "source": [
        "intData1 = 1\n",
        "intData2 = 2\n",
        "print(intData1+intData2)"
      ],
      "metadata": {
        "colab": {
          "base_uri": "https://localhost:8080/"
        },
        "id": "X7uGFo4tGYwl",
        "outputId": "c85855f7-37f4-4dba-dd1f-9a9026f626f8"
      },
      "execution_count": 7,
      "outputs": [
        {
          "output_type": "stream",
          "name": "stdout",
          "text": [
            "3\n"
          ]
        }
      ]
    },
    {
      "cell_type": "code",
      "source": [
        "name = '홍길동'\n",
        "phone = '010-1234-5678'\n",
        "print('이름', name, '핸드폰', phone)"
      ],
      "metadata": {
        "colab": {
          "base_uri": "https://localhost:8080/"
        },
        "id": "74NQ_LYCGmHv",
        "outputId": "3547cf1a-08ea-4d78-a446-ace8e2a2ecdd"
      },
      "execution_count": 8,
      "outputs": [
        {
          "output_type": "stream",
          "name": "stdout",
          "text": [
            "이름 홍길동 핸드폰 010-1234-5678\n"
          ]
        }
      ]
    },
    {
      "cell_type": "code",
      "source": [
        "print('#', end='')\n",
        "print('#'*5)"
      ],
      "metadata": {
        "colab": {
          "base_uri": "https://localhost:8080/"
        },
        "id": "N3voR6LlHq3c",
        "outputId": "ecfbb7f8-6894-4fb5-ee36-1a731028dc1b"
      },
      "execution_count": 13,
      "outputs": [
        {
          "output_type": "stream",
          "name": "stdout",
          "text": [
            "######\n"
          ]
        }
      ]
    },
    {
      "cell_type": "code",
      "source": [
        "print(name, phone, sep=';')"
      ],
      "metadata": {
        "colab": {
          "base_uri": "https://localhost:8080/"
        },
        "id": "ej9VD_08JWa8",
        "outputId": "8c0bb73d-45d0-46e7-dff1-30b79ee126bc"
      },
      "execution_count": 14,
      "outputs": [
        {
          "output_type": "stream",
          "name": "stdout",
          "text": [
            "홍길동;010-1234-5678\n"
          ]
        }
      ]
    }
  ]
}