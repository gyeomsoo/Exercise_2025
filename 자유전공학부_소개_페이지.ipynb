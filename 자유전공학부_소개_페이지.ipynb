{
  "nbformat": 4,
  "nbformat_minor": 0,
  "metadata": {
    "colab": {
      "provenance": [],
      "include_colab_link": true
    },
    "kernelspec": {
      "name": "python3",
      "display_name": "Python 3"
    },
    "language_info": {
      "name": "python"
    }
  },
  "cells": [
    {
      "cell_type": "markdown",
      "metadata": {
        "id": "view-in-github",
        "colab_type": "text"
      },
      "source": [
        "<a href=\"https://colab.research.google.com/github/gyeomsoo/Exercise_2025/blob/main/%EC%9E%90%EC%9C%A0%EC%A0%84%EA%B3%B5%ED%95%99%EB%B6%80_%EC%86%8C%EA%B0%9C_%ED%8E%98%EC%9D%B4%EC%A7%80.ipynb\" target=\"_parent\"><img src=\"https://colab.research.google.com/assets/colab-badge.svg\" alt=\"Open In Colab\"/></a>"
      ]
    },
    {
      "cell_type": "markdown",
      "source": [
        "# Department of Free Majors 😆"
      ],
      "metadata": {
        "id": "2vLUljiPuRcU"
      }
    },
    {
      "cell_type": "markdown",
      "source": [
        "# Undergraduate introduction / [That page](https://openmajor.hannam.ac.kr/intro/)\n",
        "## Freshmen who enter Hannam University's Department of Free Majors are trained according to a selected course to prepare for their future for one year after they enter the school. This includes a track-based curriculum suitable for various major areas, including liberal arts and natural sciences, and a comparative course consisting of various programs that can help them explore careers and careers.\n",
        "## In the track-based curriculum, four tracks (general engineering, chemical and bio, IT-related, humanities and social sciences) are provided to prevent problems such as competition subjects and basic skills after entering the second grade according to your desired major. In addition, various programs and courses (self-development and future design) to obtain major information and experience necessary, as well as counseling from supervisors in various fields, are provided.\n",
        "## Choosing a major prioritizes students' own wishes. And you can choose any department except for the special curriculum, the College of Education, and the Department of Nursing."
      ],
      "metadata": {
        "id": "vTn1UEM7udr9"
      }
    },
    {
      "cell_type": "markdown",
      "source": [
        "# course of study, curriculum / [that page](https://openmajor.hannam.ac.kr/curriculum/)\n",
        "## Undergraduate educational objectives\n",
        "Understanding, analyzing, and predicting society as a whole has the qualities to lead the internationalization of the industry, and by selecting a major that meets social needs, they develop basic skills and perspectives to become experts in the field.\n",
        "## the characteristics of the curriculum\n",
        "* It consists of a track-based curriculum suitable for various major areas, including liberal arts and natural sciences, and a comparative course consisting of various programs that can help in job and career exploration.\n",
        "* In the track-based curriculum, four tracks (general engineering, chemistry and bio, IT-related, and humanities and social sciences) are provided according to their desired major.\n",
        "* Subjects (self-development and future design) are also included to obtain major information and experience necessary."
      ],
      "metadata": {
        "id": "A2Ize3gFvq_F"
      }
    },
    {
      "cell_type": "markdown",
      "source": [
        "## These Department of free majors do a variety of jobs for students. 😀\n",
        "## Students can get a lot of help and get into the department they want. ☺️"
      ],
      "metadata": {
        "id": "LXoBznGCyv5g"
      }
    }
  ]
}